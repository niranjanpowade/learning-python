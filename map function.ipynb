{
 "cells": [
  {
   "cell_type": "markdown",
   "id": "764fe0aa",
   "metadata": {},
   "source": [
    "# Only for single value input"
   ]
  },
  {
   "cell_type": "code",
   "execution_count": 8,
   "id": "2973ff67",
   "metadata": {},
   "outputs": [
    {
     "name": "stdout",
     "output_type": "stream",
     "text": [
      "Enter a number5\n"
     ]
    },
    {
     "data": {
      "text/plain": [
       "'The number 5 is Odd'"
      ]
     },
     "execution_count": 8,
     "metadata": {},
     "output_type": "execute_result"
    }
   ],
   "source": [
    "def evenorodd(num):\n",
    "    if num%2==0:\n",
    "        return \"The number {} is Even\".format(num)\n",
    "    else:\n",
    "        return  \"The number {} is Odd\".format(num)\n",
    "evenorodd(int(input(\"Enter a number\")))"
   ]
  },
  {
   "cell_type": "markdown",
   "id": "dcc37f71",
   "metadata": {},
   "source": [
    "# For multiple values"
   ]
  },
  {
   "cell_type": "code",
   "execution_count": 10,
   "id": "29b547c0",
   "metadata": {},
   "outputs": [],
   "source": [
    "lst = [1,2,3,4,5,6,7,8,9,66,5,45]"
   ]
  },
  {
   "cell_type": "code",
   "execution_count": 11,
   "id": "f2e91dc0",
   "metadata": {},
   "outputs": [
    {
     "data": {
      "text/plain": [
       "<map at 0x2c6565f0970>"
      ]
     },
     "execution_count": 11,
     "metadata": {},
     "output_type": "execute_result"
    }
   ],
   "source": [
    "map(evenorodd,lst)"
   ]
  },
  {
   "cell_type": "markdown",
   "id": "df88cf0f",
   "metadata": {},
   "source": [
    "map uses a lazy loading technique. The memory is still not instantiated .\n",
    "so to instantiate memory we have to convert it to list"
   ]
  },
  {
   "cell_type": "code",
   "execution_count": 12,
   "id": "b4cf5c17",
   "metadata": {},
   "outputs": [
    {
     "data": {
      "text/plain": [
       "['The number 1 is Odd',\n",
       " 'The number 2 is Even',\n",
       " 'The number 3 is Odd',\n",
       " 'The number 4 is Even',\n",
       " 'The number 5 is Odd',\n",
       " 'The number 6 is Even',\n",
       " 'The number 7 is Odd',\n",
       " 'The number 8 is Even',\n",
       " 'The number 9 is Odd',\n",
       " 'The number 66 is Even',\n",
       " 'The number 5 is Odd',\n",
       " 'The number 45 is Odd']"
      ]
     },
     "execution_count": 12,
     "metadata": {},
     "output_type": "execute_result"
    }
   ],
   "source": [
    "list(map(evenorodd,lst))"
   ]
  },
  {
   "cell_type": "markdown",
   "id": "f9a64ef8",
   "metadata": {},
   "source": [
    "the above method is the easiestt method. otherwise the or option willl be to apply loops to the list"
   ]
  }
 ],
 "metadata": {
  "kernelspec": {
   "display_name": "Python 3 (ipykernel)",
   "language": "python",
   "name": "python3"
  },
  "language_info": {
   "codemirror_mode": {
    "name": "ipython",
    "version": 3
   },
   "file_extension": ".py",
   "mimetype": "text/x-python",
   "name": "python",
   "nbconvert_exporter": "python",
   "pygments_lexer": "ipython3",
   "version": "3.9.7"
  }
 },
 "nbformat": 4,
 "nbformat_minor": 5
}
