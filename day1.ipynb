{
 "cells": [
  {
   "cell_type": "markdown",
   "id": "6a7e37ef",
   "metadata": {},
   "source": [
    "# Day1"
   ]
  },
  {
   "cell_type": "markdown",
   "id": "eb7ebb64",
   "metadata": {},
   "source": [
    "# Basics of python"
   ]
  },
  {
   "cell_type": "code",
   "execution_count": 2,
   "id": "a9112951",
   "metadata": {},
   "outputs": [
    {
     "name": "stdout",
     "output_type": "stream",
     "text": [
      "hello\n"
     ]
    }
   ],
   "source": [
    "#print\n",
    "print(\"hello\")"
   ]
  },
  {
   "cell_type": "code",
   "execution_count": 11,
   "id": "8e00cd6a",
   "metadata": {},
   "outputs": [
    {
     "name": "stdout",
     "output_type": "stream",
     "text": [
      "9\n",
      "8\n",
      "niranjan powade\n",
      "n\n",
      "n\n",
      "nira\n"
     ]
    },
    {
     "data": {
      "text/plain": [
       "8"
      ]
     },
     "execution_count": 11,
     "metadata": {},
     "output_type": "execute_result"
    }
   ],
   "source": [
    "#variables in python\n",
    "#we dont  have to declare the type of the variable in python like int,float,char.\n",
    "#one variable on one line\n",
    "a=5\n",
    "b=4\n",
    "print(a+b)\n",
    "#multiple variables on one line\n",
    "a,b=4,4\n",
    "print(a+b)\n",
    "#string\n",
    "name = \"niranjan\"\n",
    "print(name + \" powade\")\n",
    "#fetching letters of string first\n",
    "print(name[0])\n",
    "#fetchind letter of string last\n",
    "print(name[-1])\n",
    "#fetching multiple characters of strinng\n",
    "print(name[0:4]) #Note:-it will print characters from index[0] to index[3 not 4]\n",
    "#length of the string\n",
    "len(name)"
   ]
  },
  {
   "cell_type": "code",
   "execution_count": 30,
   "id": "03bdefa1",
   "metadata": {},
   "outputs": [
    {
     "name": "stdout",
     "output_type": "stream",
     "text": [
      "['Niranjan powade', 30, 'computer science engineering']\n",
      "Niranjan powade\n",
      "[[5, 6, 7], ['niranjan', 'sammit', 'sumit']]\n",
      "[[5, 6, 7, 32], ['niranjan', 'sammit', 'sumit', 'amey']]\n",
      "[[5, 6, 7, 32], ['niranjan', 'rushi', 'sammit', 'sumit', 'amey']]\n",
      "[[5, 6, 7, 32], ['niranjan', 'sammit', 'sumit', 'amey']]\n",
      "['sammit', 'sumit', 'rushi', 'rajya']\n"
     ]
    },
    {
     "data": {
      "text/plain": [
       "50"
      ]
     },
     "execution_count": 30,
     "metadata": {},
     "output_type": "execute_result"
    }
   ],
   "source": [
    "#list in python\n",
    "#in list we can store multiple values of different data types like int,chare,float\n",
    "student1=[\"Niranjan powade\",30,\"computer science engineering\"]\n",
    "print(student1)\n",
    "#fetching element from list\n",
    "print(student1[0])\n",
    "#lists in list\n",
    "rollno=[5,6,7]\n",
    "names=[\"niranjan\",\"sammit\",\"sumit\"]\n",
    "rollnonames=[rollno,names]\n",
    "print(rollnonames)\n",
    "\n",
    "#operations on string\n",
    "#strings are mutable(mutablbe means you can changes the values)\n",
    "#-append\n",
    "rollno.append(32)\n",
    "names.append(\"amey\")\n",
    "print(rollnonames)\n",
    "#-insert(insert element in between)\n",
    "names.insert(1,\"rushi\") #1 means index number and rushi means element to be inserted\n",
    "print(rollnonames)\n",
    "#-remove\n",
    "names.remove(\"rushi\")\n",
    "print(rollnonames)\n",
    "#-pop\n",
    "names.pop(0)\n",
    "names.pop() #last in first out the output will be last element\n",
    "#-insert multiple values in list\n",
    "names.extend([\"rushi\",\"rajya\"])\n",
    "print(names)\n",
    "#-minimum,maximum and sum from the list\n",
    "min(rollno)\n",
    "max(rollno)\n",
    "sum(rollno)"
   ]
  },
  {
   "cell_type": "code",
   "execution_count": 32,
   "id": "76a2ae01",
   "metadata": {},
   "outputs": [
    {
     "ename": "TypeError",
     "evalue": "'tuple' object does not support item assignment",
     "output_type": "error",
     "traceback": [
      "\u001b[1;31m---------------------------------------------------------------------------\u001b[0m",
      "\u001b[1;31mTypeError\u001b[0m                                 Traceback (most recent call last)",
      "\u001b[1;32m~\\AppData\\Local\\Temp/ipykernel_6884/1117148665.py\u001b[0m in \u001b[0;36m<module>\u001b[1;34m\u001b[0m\n\u001b[0;32m      4\u001b[0m \u001b[0mtup\u001b[0m\u001b[1;33m=\u001b[0m\u001b[1;33m(\u001b[0m\u001b[1;36m1\u001b[0m\u001b[1;33m,\u001b[0m\u001b[1;36m2\u001b[0m\u001b[1;33m,\u001b[0m\u001b[1;36m3\u001b[0m\u001b[1;33m,\u001b[0m\u001b[1;36m4\u001b[0m\u001b[1;33m,\u001b[0m\u001b[1;36m5\u001b[0m\u001b[1;33m,\u001b[0m\u001b[1;36m6\u001b[0m\u001b[1;33m,\u001b[0m\u001b[1;36m7\u001b[0m\u001b[1;33m)\u001b[0m\u001b[1;33m\u001b[0m\u001b[1;33m\u001b[0m\u001b[0m\n\u001b[0;32m      5\u001b[0m \u001b[0mtup\u001b[0m\u001b[1;33m[\u001b[0m\u001b[1;36m1\u001b[0m\u001b[1;33m]\u001b[0m\u001b[1;33m\u001b[0m\u001b[1;33m\u001b[0m\u001b[0m\n\u001b[1;32m----> 6\u001b[1;33m \u001b[0mtup\u001b[0m\u001b[1;33m[\u001b[0m\u001b[1;36m1\u001b[0m\u001b[1;33m]\u001b[0m\u001b[1;33m=\u001b[0m\u001b[1;36m5\u001b[0m\u001b[1;33m\u001b[0m\u001b[1;33m\u001b[0m\u001b[0m\n\u001b[0m",
      "\u001b[1;31mTypeError\u001b[0m: 'tuple' object does not support item assignment"
     ]
    }
   ],
   "source": [
    "#tuple in python\n",
    "#-tuple is also same as list\n",
    "#-the only difference is in list we can change the values and in tuple we cant\n",
    "tup=(1,2,3,4,5,6,7)\n",
    "tup[1]\n",
    "# tup[1]=5  TypeError: 'tuple' object does not support item assignment\n",
    "#for faster execution"
   ]
  },
  {
   "cell_type": "code",
   "execution_count": 33,
   "id": "91fb8260",
   "metadata": {},
   "outputs": [
    {
     "name": "stdout",
     "output_type": "stream",
     "text": [
      "{34, 22, 345, 7757, 47}\n"
     ]
    }
   ],
   "source": [
    "#set in python\n",
    "#-collection of unique elements\n",
    "a={22,34,47,345,22,34,7757}\n",
    "print(a) #no duplicate values\n",
    "#indexing is not allowed in sets\n"
   ]
  },
  {
   "cell_type": "code",
   "execution_count": 14,
   "id": "c9db8310",
   "metadata": {
    "scrolled": true
   },
   "outputs": [
    {
     "name": "stdout",
     "output_type": "stream",
     "text": [
      "{1: 'niranjan', 2: 'sammit', 3: 'sammit'}\n",
      "niranjan\n",
      "niranjan\n",
      "not fuond\n",
      "{'niranjan': 'python', 'sumit': 'cpp', 'sammit': 'java'}\n",
      "{'niranjan': 'python', 'sumit': 'cpp', 'sammit': 'java', 'amey': 'java'}\n",
      "{'niranjan': 'python', 'sumit': 'cpp', 'sammit': 'java'}\n",
      "atom\n",
      "['vscode', 'pycharm', 'sublime']\n",
      "{'jse': 'netbeans', 'jee': 'eclipse'}\n"
     ]
    }
   ],
   "source": [
    "#Dictonary in python\n",
    "#- key-value pairs\n",
    "#-key maps to the associated value to it\n",
    "data = {1:\"niranjan\",2:\"sammit\",3:\"sammit\"}\n",
    "print(data)\n",
    "print(data[1])\n",
    "print(data[1])\n",
    "print(data.get(4,\"not fuond\")) #if somethign is not availabvle on the internet the browser will show you not found \n",
    "#how to combine 2 lists to form a dictonary\n",
    "keys =[\"niranjan\",\"sumit\",\"sammit\",\"extra\"]\n",
    "values = [\"python\",\"cpp\",\"java\"]\n",
    "data = dict(zip(keys,values))\n",
    "print(data)\n",
    "#adding element\n",
    "data[\"amey\"]=\"java\"\n",
    "print(data)\n",
    "#-delete data from the list\n",
    "del data[\"amey\"]\n",
    "print(data)\n",
    "\n",
    "\n",
    "#dictonary examples\n",
    "#-list in dictonary,dictonary in dictonary\n",
    "prog={\"js\":\"atom\",\"python\":[\"vscode\",\"pycharm\",\"sublime\"],\"java\":{\n",
    "    \"jse\":\"netbeans\",\"jee\":\"eclipse\"\n",
    "}}\n",
    "print(prog[\"js\"])\n",
    "print(prog['python'])\n",
    "print(prog[\"java\"]) #print(prog[\"java\"][\"jee\"])"
   ]
  },
  {
   "cell_type": "code",
   "execution_count": 23,
   "id": "07db68fc",
   "metadata": {},
   "outputs": [
    {
     "name": "stdout",
     "output_type": "stream",
     "text": [
      "2908214159952\n",
      "2908214159952\n",
      "<class 'int'>\n"
     ]
    }
   ],
   "source": [
    "#more on variables\n",
    "a=5\n",
    "name=\"niranjan\"\n",
    "#how to find address of the above variable??\n",
    "id(a) #2908214159792\n",
    "id(name) #2908294779056\n",
    "#- in python if you 2 variables and the both variables have the same data then \n",
    "#- they will point to the same block.a=10,b=10 address of both var will be same\n",
    "a=10\n",
    "b=10\n",
    "print(id(a)) #2908214159952\n",
    "print(id(b)) #2908214159952\n",
    "#-no constants in python\n",
    "#-type of variable\n",
    "print(type(a))"
   ]
  },
  {
   "cell_type": "code",
   "execution_count": null,
   "id": "a860c1d4",
   "metadata": {},
   "outputs": [],
   "source": [
    "#data types in python\n",
    "\n",
    "#-1- NONE - means nothing is assigned to that object\n",
    "#-2- NUMERIC -int,float,complex(real number+imaginary number),bool\n",
    "#-3- SEQUENCE -list,tuple,set,string(no char type in python),range(0,10,2(difference))\n",
    "#-4- DICTONARY -key-value pairs.   var.keys for keys and var.values for values"
   ]
  },
  {
   "cell_type": "code",
   "execution_count": null,
   "id": "d383b4b1",
   "metadata": {},
   "outputs": [],
   "source": []
  }
 ],
 "metadata": {
  "kernelspec": {
   "display_name": "Python 3 (ipykernel)",
   "language": "python",
   "name": "python3"
  },
  "language_info": {
   "codemirror_mode": {
    "name": "ipython",
    "version": 3
   },
   "file_extension": ".py",
   "mimetype": "text/x-python",
   "name": "python",
   "nbconvert_exporter": "python",
   "pygments_lexer": "ipython3",
   "version": "3.9.7"
  }
 },
 "nbformat": 4,
 "nbformat_minor": 5
}
